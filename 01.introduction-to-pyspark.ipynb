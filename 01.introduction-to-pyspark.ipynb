{
 "cells": [
  {
   "cell_type": "markdown",
   "metadata": {
    "application/vnd.databricks.v1+cell": {
     "cellMetadata": {
      "byteLimit": 2048000,
      "rowLimit": 10000
     },
     "inputWidgets": {},
     "nuid": "e1d1bc35-20a8-485f-a98a-262d1f4f2d9f",
     "showTitle": false,
     "tableResultSettingsMap": {},
     "title": ""
    }
   },
   "source": [
    "# 01. Setup & Exploration : "
   ]
  },
  {
   "cell_type": "markdown",
   "metadata": {
    "application/vnd.databricks.v1+cell": {
     "cellMetadata": {
      "byteLimit": 2048000,
      "rowLimit": 10000
     },
     "inputWidgets": {},
     "nuid": "c8084df8-bdac-4aa7-8cfc-cb0513869a13",
     "showTitle": false,
     "tableResultSettingsMap": {},
     "title": ""
    }
   },
   "source": [
    "- This Section ingredients to,\n",
    "  - Importing Necessary Libraries\n",
    "  - Building a Spark Sessions \n",
    "  - Import to the dataset from the schema\n",
    "  - Exploring to the schema of each tables."
   ]
  },
  {
   "cell_type": "markdown",
   "metadata": {
    "application/vnd.databricks.v1+cell": {
     "cellMetadata": {
      "byteLimit": 2048000,
      "rowLimit": 10000
     },
     "inputWidgets": {},
     "nuid": "a1db2922-8b18-4997-be37-91f1e00a89e9",
     "showTitle": false,
     "tableResultSettingsMap": {},
     "title": ""
    }
   },
   "source": [
    "### Importing Necessary Libraries : "
   ]
  },
  {
   "cell_type": "code",
   "execution_count": 0,
   "metadata": {
    "application/vnd.databricks.v1+cell": {
     "cellMetadata": {
      "byteLimit": 2048000,
      "rowLimit": 10000
     },
     "inputWidgets": {},
     "nuid": "f0e99081-0ec2-452a-8fa3-b7e3e19e554b",
     "showTitle": false,
     "tableResultSettingsMap": {},
     "title": ""
    }
   },
   "outputs": [],
   "source": [
    "from pyspark.sql import SparkSession\n",
    "import pyspark.sql.functions as F\n",
    "from pyspark.sql.functions import lit, concat,regexp_replace, col,broadcast, sum, countDistinct"
   ]
  },
  {
   "cell_type": "markdown",
   "metadata": {
    "application/vnd.databricks.v1+cell": {
     "cellMetadata": {
      "byteLimit": 2048000,
      "rowLimit": 10000
     },
     "inputWidgets": {},
     "nuid": "366f6db7-bcc6-429b-b35a-54132bc391c1",
     "showTitle": false,
     "tableResultSettingsMap": {},
     "title": ""
    }
   },
   "source": [
    "### Building A Spark Session"
   ]
  },
  {
   "cell_type": "code",
   "execution_count": 0,
   "metadata": {
    "application/vnd.databricks.v1+cell": {
     "cellMetadata": {
      "byteLimit": 2048000,
      "rowLimit": 10000
     },
     "inputWidgets": {},
     "nuid": "e040e0f0-412c-4143-ba59-fb846f3d0275",
     "showTitle": false,
     "tableResultSettingsMap": {},
     "title": ""
    }
   },
   "outputs": [],
   "source": [
    "spark = SparkSession.builder.appName('MySparkProject_1').getOrCreate()"
   ]
  },
  {
   "cell_type": "markdown",
   "metadata": {
    "application/vnd.databricks.v1+cell": {
     "cellMetadata": {
      "byteLimit": 2048000,
      "rowLimit": 10000
     },
     "inputWidgets": {},
     "nuid": "19ecddf4-9a83-460c-968f-f6ac06fc2443",
     "showTitle": false,
     "tableResultSettingsMap": {},
     "title": ""
    }
   },
   "source": [
    "### Import the Datasets from the Schema"
   ]
  },
  {
   "cell_type": "code",
   "execution_count": 0,
   "metadata": {
    "application/vnd.databricks.v1+cell": {
     "cellMetadata": {
      "byteLimit": 2048000,
      "rowLimit": 10000
     },
     "inputWidgets": {},
     "nuid": "5a9242e7-de2b-4a24-ae8b-7ed758264237",
     "showTitle": false,
     "tableResultSettingsMap": {},
     "title": ""
    }
   },
   "outputs": [],
   "source": [
    "df_transactions = spark.table(\"samples.bakehouse.sales_transactions\")\n",
    "df_suppliers = spark.table(\"samples.bakehouse.sales_suppliers\")\n",
    "df_fr = spark.table(\"samples.bakehouse.sales_franchises\")\n",
    "df_customers = spark.table(\"samples.bakehouse.sales_customers\")\n",
    "df_rev = spark.table(\"samples.bakehouse.media_customer_reviews\")\n",
    "df_golds = spark.table(\"samples.bakehouse.media_gold_reviews_chunked\")"
   ]
  },
  {
   "cell_type": "markdown",
   "metadata": {
    "application/vnd.databricks.v1+cell": {
     "cellMetadata": {
      "byteLimit": 2048000,
      "rowLimit": 10000
     },
     "inputWidgets": {},
     "nuid": "24f377c1-bdeb-46d7-8f70-57f544793875",
     "showTitle": false,
     "tableResultSettingsMap": {},
     "title": ""
    }
   },
   "source": [
    "### Showing the schema and first 5 rows of the each Datasets"
   ]
  },
  {
   "cell_type": "code",
   "execution_count": 0,
   "metadata": {
    "application/vnd.databricks.v1+cell": {
     "cellMetadata": {
      "byteLimit": 2048000,
      "rowLimit": 10000
     },
     "inputWidgets": {},
     "nuid": "3778252c-8883-4c13-8d10-ca7d870e8831",
     "showTitle": false,
     "tableResultSettingsMap": {},
     "title": ""
    }
   },
   "outputs": [],
   "source": [
    "df_transactions.printSchema()\n",
    "df_suppliers.printSchema()\n",
    "df_fr.printSchema()\n",
    "df_customers.printSchema()\n",
    "df_rev.printSchema()\n",
    "df_golds.printSchema()"
   ]
  },
  {
   "cell_type": "code",
   "execution_count": 0,
   "metadata": {
    "application/vnd.databricks.v1+cell": {
     "cellMetadata": {
      "byteLimit": 2048000,
      "rowLimit": 10000
     },
     "inputWidgets": {},
     "nuid": "38a3a7c4-3a7a-4d5a-ae28-e5304ad9cf9e",
     "showTitle": false,
     "tableResultSettingsMap": {},
     "title": ""
    }
   },
   "outputs": [],
   "source": [
    "df_transactions.show(5)\n",
    "df_suppliers.show(5)\n",
    "df_fr.show(5)\n",
    "df_customers.show(5)\n",
    "df_rev.show(5)\n",
    "df_golds.show(5)"
   ]
  },
  {
   "cell_type": "markdown",
   "metadata": {
    "application/vnd.databricks.v1+cell": {
     "cellMetadata": {
      "byteLimit": 2048000,
      "rowLimit": 10000
     },
     "inputWidgets": {},
     "nuid": "f53e4d23-758d-48fd-93d7-1aed8de30313",
     "showTitle": false,
     "tableResultSettingsMap": {},
     "title": ""
    }
   },
   "source": [
    "# 02. Cleaning & Preparation"
   ]
  },
  {
   "cell_type": "markdown",
   "metadata": {
    "application/vnd.databricks.v1+cell": {
     "cellMetadata": {
      "byteLimit": 2048000,
      "rowLimit": 10000
     },
     "inputWidgets": {},
     "nuid": "623aa5e3-2809-4e0a-9bf8-8efa1e7175d4",
     "showTitle": false,
     "tableResultSettingsMap": {},
     "title": ""
    }
   },
   "source": [
    "- This sections ingredients to,\n",
    "  - Management of Missing value(Filling & other ops.)\n",
    "  - Changing datatypes    "
   ]
  },
  {
   "cell_type": "code",
   "execution_count": 0,
   "metadata": {
    "application/vnd.databricks.v1+cell": {
     "cellMetadata": {
      "byteLimit": 2048000,
      "rowLimit": 10000
     },
     "inputWidgets": {},
     "nuid": "775ca79e-5c4e-42d6-ba86-eab29ed75461",
     "showTitle": false,
     "tableResultSettingsMap": {},
     "title": ""
    }
   },
   "outputs": [],
   "source": [
    "(df_transactions.select([F.sum(F.col(c).isNull().cast(\"integer\")).alias(c) for c in df_transactions.columns]).show())\n",
    "(df_suppliers.select([F.sum(F.col(c).isNull().cast(\"integer\")).alias(c) for c in df_suppliers.columns]).show())\n",
    "\n",
    "(df_fr.select([F.sum(F.col(c).isNull().cast(\"integer\")).alias(c) for c in df_fr.columns]).show())\n",
    "(df_customers.select([F.sum(F.col(c).isNull().cast(\"integer\")).alias(c) for c in df_customers.columns]).show())\n",
    "(df_rev.select([F.sum(F.col(c).isNull().cast(\"integer\")).alias(c) for c in df_rev.columns]).show())\n",
    "(df_golds.select([F.sum(F.col(c).isNull().cast(\"integer\")).alias(c) for c in df_golds.columns]).show())\n"
   ]
  },
  {
   "cell_type": "markdown",
   "metadata": {
    "application/vnd.databricks.v1+cell": {
     "cellMetadata": {
      "byteLimit": 2048000,
      "rowLimit": 10000
     },
     "inputWidgets": {},
     "nuid": "0c9d63b4-443f-466e-973d-15802993d0b3",
     "showTitle": false,
     "tableResultSettingsMap": {},
     "title": ""
    }
   },
   "source": [
    "- There isn't a null value of the any tables. So, I won't do any na.fill() operations. \n",
    "- Some tables ingredient some datetime values, we can change it's dtypes"
   ]
  },
  {
   "cell_type": "code",
   "execution_count": 0,
   "metadata": {
    "application/vnd.databricks.v1+cell": {
     "cellMetadata": {
      "byteLimit": 2048000,
      "rowLimit": 10000
     },
     "inputWidgets": {},
     "nuid": "92b1bb4e-6f80-4278-a319-3fa0de0f0a66",
     "showTitle": false,
     "tableResultSettingsMap": {},
     "title": ""
    }
   },
   "outputs": [],
   "source": [
    "df_customers = df_customers.withColumn('customer_full_name', concat(df_customers[\"first_name\"], lit(' '), df_customers[\"last_name\"]))\n",
    "df_customers = df_customers.withColumn('postal_zip_code', df_customers.postal_zip_code.cast('string'))\n",
    "\n",
    "df_customers = df_customers.withColumn('customerid', df_customers.customerID.cast('string'))\n",
    "df_transactions = df_transactions.withColumn('customerid', df_transactions.customerID.cast('string'))\n",
    "df_transactions = df_transactions.withColumn('transactionID', df_transactions.transactionID.cast('string'))\n",
    "df_transactions = df_transactions.withColumn('franchiseID', df_transactions.franchiseID.cast('string'))"
   ]
  },
  {
   "cell_type": "markdown",
   "metadata": {
    "application/vnd.databricks.v1+cell": {
     "cellMetadata": {
      "byteLimit": 2048000,
      "rowLimit": 10000
     },
     "inputWidgets": {},
     "nuid": "4a495f39-f77d-4d91-99e5-11ce71cf6482",
     "showTitle": false,
     "tableResultSettingsMap": {},
     "title": ""
    }
   },
   "source": [
    "# Joining & Enrichment"
   ]
  },
  {
   "cell_type": "markdown",
   "metadata": {
    "application/vnd.databricks.v1+cell": {
     "cellMetadata": {
      "byteLimit": 2048000,
      "rowLimit": 10000
     },
     "inputWidgets": {},
     "nuid": "0f0d24eb-4868-411a-a27d-abb77fa7c95e",
     "showTitle": false,
     "tableResultSettingsMap": {},
     "title": ""
    }
   },
   "source": [
    "- This sections ingredients to,\n",
    "  - Building to the Main Analysis Table using with Join.\n",
    "  - Using to the Brodcast() method for optimization "
   ]
  },
  {
   "cell_type": "code",
   "execution_count": 0,
   "metadata": {
    "application/vnd.databricks.v1+cell": {
     "cellMetadata": {
      "byteLimit": 2048000,
      "rowLimit": 10000
     },
     "inputWidgets": {},
     "nuid": "fb9ac7e0-3851-47f3-bdf1-8fd7e9e6f03b",
     "showTitle": false,
     "tableResultSettingsMap": {},
     "title": ""
    }
   },
   "outputs": [],
   "source": [
    "df_transactions_fixed = df_transactions.withColumn(\"join_key_id\",regexp_replace(df_transactions[\"CustomerID\"], \"^1\", \"2\"))"
   ]
  },
  {
   "cell_type": "code",
   "execution_count": 0,
   "metadata": {
    "application/vnd.databricks.v1+cell": {
     "cellMetadata": {
      "byteLimit": 2048000,
      "rowLimit": 10000
     },
     "inputWidgets": {},
     "nuid": "39353128-4ddd-4d9f-9a1b-6f480316443e",
     "showTitle": false,
     "tableResultSettingsMap": {},
     "title": ""
    }
   },
   "outputs": [],
   "source": [
    "df_tr_fr = df_transactions_fixed.join(broadcast(df_fr),[\"franchiseID\"],\"left_outer\")"
   ]
  },
  {
   "cell_type": "code",
   "execution_count": 0,
   "metadata": {
    "application/vnd.databricks.v1+cell": {
     "cellMetadata": {
      "byteLimit": 2048000,
      "rowLimit": 10000
     },
     "inputWidgets": {},
     "nuid": "6b74b1d2-0552-4863-b293-9e39f38e66e1",
     "showTitle": false,
     "tableResultSettingsMap": {},
     "title": ""
    }
   },
   "outputs": [],
   "source": [
    "df_main_intermediate = df_tr_fr.join(df_customers, df_tr_fr.join_key_id == df_customers.customerid, 'left_outer')"
   ]
  },
  {
   "cell_type": "code",
   "execution_count": 0,
   "metadata": {
    "application/vnd.databricks.v1+cell": {
     "cellMetadata": {
      "byteLimit": 2048000,
      "rowLimit": 10000
     },
     "inputWidgets": {},
     "nuid": "405b2186-c01d-4f94-b78f-8e1fc0f416c2",
     "showTitle": false,
     "tableResultSettingsMap": {},
     "title": ""
    }
   },
   "outputs": [],
   "source": [
    "df_main_fixed = df_main_intermediate.drop(df_tr_fr.customerid)"
   ]
  },
  {
   "cell_type": "code",
   "execution_count": 0,
   "metadata": {
    "application/vnd.databricks.v1+cell": {
     "cellMetadata": {
      "byteLimit": 2048000,
      "rowLimit": 10000
     },
     "inputWidgets": {},
     "nuid": "b64d89dd-d02d-4a32-909f-0c7d29b45349",
     "showTitle": false,
     "tableResultSettingsMap": {},
     "title": ""
    }
   },
   "outputs": [],
   "source": [
    "df_main_fixed.createOrReplaceTempView(\"sales_data_view\")"
   ]
  },
  {
   "cell_type": "code",
   "execution_count": 0,
   "metadata": {
    "application/vnd.databricks.v1+cell": {
     "cellMetadata": {
      "byteLimit": 2048000,
      "rowLimit": 10000
     },
     "inputWidgets": {},
     "nuid": "d6b40844-dfd0-495e-86bc-9ce7fc18f1bf",
     "showTitle": false,
     "tableResultSettingsMap": {},
     "title": ""
    }
   },
   "outputs": [],
   "source": [
    "df_media =  df_rev.join(broadcast(df_golds),['franchiseID'],'left_outer')"
   ]
  },
  {
   "cell_type": "markdown",
   "metadata": {
    "application/vnd.databricks.v1+cell": {
     "cellMetadata": {
      "byteLimit": 2048000,
      "rowLimit": 10000
     },
     "inputWidgets": {},
     "nuid": "e8142e34-3b72-4b80-8751-16fc4882a3e6",
     "showTitle": false,
     "tableResultSettingsMap": {},
     "title": ""
    }
   },
   "source": [
    "# DataFrame API"
   ]
  },
  {
   "cell_type": "markdown",
   "metadata": {
    "application/vnd.databricks.v1+cell": {
     "cellMetadata": {
      "byteLimit": 2048000,
      "rowLimit": 10000
     },
     "inputWidgets": {},
     "nuid": "1ab1224b-4ccb-4155-8533-722a79a4c037",
     "showTitle": false,
     "tableResultSettingsMap": {},
     "title": ""
    }
   },
   "source": [
    "- This section ingredients to,\n",
    "  - Build some aggregation process based on Customer, Product , franchises etc."
   ]
  },
  {
   "cell_type": "code",
   "execution_count": 0,
   "metadata": {
    "application/vnd.databricks.v1+cell": {
     "cellMetadata": {
      "byteLimit": 2048000,
      "rowLimit": 10000
     },
     "inputWidgets": {},
     "nuid": "c4736193-110f-4369-bf0a-2f33ebe9248e",
     "showTitle": false,
     "tableResultSettingsMap": {},
     "title": ""
    }
   },
   "outputs": [],
   "source": [
    "df_main = df_main_fixed.withColumn(\"totalPrice\", df_main_fixed[\"totalPrice\"].cast(\"double\")) \\\n",
    "                 .withColumn(\"quantity\", col(\"quantity\").cast(\"integer\"))"
   ]
  },
  {
   "cell_type": "code",
   "execution_count": 0,
   "metadata": {
    "application/vnd.databricks.v1+cell": {
     "cellMetadata": {
      "byteLimit": 2048000,
      "rowLimit": 10000
     },
     "inputWidgets": {},
     "nuid": "df7b822e-0855-4de9-8beb-8a585e7c54d1",
     "showTitle": false,
     "tableResultSettingsMap": {},
     "title": ""
    }
   },
   "outputs": [],
   "source": [
    "df_main.groupBy('customer_full_name') \\\n",
    "                .agg(\n",
    "                    sum('totalPrice').alias('total_amount'),\n",
    "                    sum('quantity').alias('total_items'),\n",
    "                    countDistinct('transactionID').alias('total_transactions')  \n",
    "                ) \\\n",
    "                .orderBy('total_amount', ascending=False).show(10)"
   ]
  },
  {
   "cell_type": "code",
   "execution_count": 0,
   "metadata": {
    "application/vnd.databricks.v1+cell": {
     "cellMetadata": {
      "byteLimit": 2048000,
      "rowLimit": 10000
     },
     "inputWidgets": {},
     "nuid": "0f4c432c-5b7e-4cc1-9fcf-159ab8e819e5",
     "showTitle": false,
     "tableResultSettingsMap": {},
     "title": ""
    }
   },
   "outputs": [],
   "source": [
    "df_main.groupBy('product') \\\n",
    "                .agg(\n",
    "                    sum('totalPrice').alias('total_amount'),\n",
    "                    sum('quantity').alias('total_items'),\n",
    "                    countDistinct('transactionID').alias('total_transactions')  \n",
    "                ) \\\n",
    "                .orderBy('total_amount', ascending=False).show(10)"
   ]
  },
  {
   "cell_type": "code",
   "execution_count": 0,
   "metadata": {
    "application/vnd.databricks.v1+cell": {
     "cellMetadata": {
      "byteLimit": 2048000,
      "rowLimit": 10000
     },
     "inputWidgets": {},
     "nuid": "731381db-3e06-4286-b210-e67a4ab65cdb",
     "showTitle": false,
     "tableResultSettingsMap": {},
     "title": ""
    }
   },
   "outputs": [],
   "source": [
    "df_main.groupBy('paymentMethod') \\\n",
    "                .agg(\n",
    "                        sum('totalPrice').alias('total_amount'),\n",
    "                        sum('quantity').alias('total_items'),\n",
    "                        countDistinct('transactionID').alias('total_transactions')\n",
    "                )\\\n",
    "                .orderBy('total_amount', ascending=False).show(10)"
   ]
  },
  {
   "cell_type": "code",
   "execution_count": 0,
   "metadata": {
    "application/vnd.databricks.v1+cell": {
     "cellMetadata": {
      "byteLimit": 2048000,
      "rowLimit": 10000
     },
     "inputWidgets": {},
     "nuid": "6658bddc-7680-4d4b-bfd5-7c6acaea3b7d",
     "showTitle": false,
     "tableResultSettingsMap": {},
     "title": ""
    }
   },
   "outputs": [],
   "source": [
    "df_main.groupBy('franchiseID') \\\n",
    "                .agg(\n",
    "                        sum('totalPrice').alias('total_amount'),\n",
    "                        sum('quantity').alias('total_items'),\n",
    "                        countDistinct('transactionID').alias('total_transactions')\n",
    "                )\\\n",
    "                .orderBy('total_amount', ascending=False).show(10)"
   ]
  },
  {
   "cell_type": "markdown",
   "metadata": {
    "application/vnd.databricks.v1+cell": {
     "cellMetadata": {
      "byteLimit": 2048000,
      "rowLimit": 10000
     },
     "inputWidgets": {},
     "nuid": "6913b99d-aada-46b0-84dc-cd718e88b37c",
     "showTitle": false,
     "tableResultSettingsMap": {},
     "title": ""
    }
   },
   "source": [
    "# Spark SQL"
   ]
  },
  {
   "cell_type": "markdown",
   "metadata": {
    "application/vnd.databricks.v1+cell": {
     "cellMetadata": {
      "byteLimit": 2048000,
      "rowLimit": 10000
     },
     "inputWidgets": {},
     "nuid": "d2fbea02-6daa-47a3-b26c-1ecfed552662",
     "showTitle": false,
     "tableResultSettingsMap": {},
     "title": ""
    }
   },
   "source": [
    "- This Section ingredients to, \n",
    "  - SparkSQL Methods"
   ]
  },
  {
   "cell_type": "code",
   "execution_count": 0,
   "metadata": {
    "application/vnd.databricks.v1+cell": {
     "cellMetadata": {
      "byteLimit": 2048000,
      "rowLimit": 10000
     },
     "inputWidgets": {},
     "nuid": "ed1d6276-8c00-49ec-aa6e-e0b6151d2e34",
     "showTitle": false,
     "tableResultSettingsMap": {
      "0": {
       "dataGridStateBlob": "{\"version\":1,\"tableState\":{\"columnPinning\":{\"left\":[\"#row_number#\"],\"right\":[]},\"columnSizing\":{},\"columnVisibility\":{}},\"settings\":{\"columns\":{}},\"syncTimestamp\":1761829819169}",
       "filterBlob": null,
       "queryPlanFiltersBlob": null,
       "tableResultIndex": 0
      }
     },
     "title": ""
    }
   },
   "outputs": [],
   "source": [
    "df_main.createOrReplaceTempView(\"sales_data_view\")\n",
    "display(df_main)"
   ]
  },
  {
   "cell_type": "code",
   "execution_count": 0,
   "metadata": {
    "application/vnd.databricks.v1+cell": {
     "cellMetadata": {
      "byteLimit": 2048000,
      "rowLimit": 10000
     },
     "inputWidgets": {},
     "nuid": "dc3b2c7c-ea8b-47b9-8c0a-f1a607094921",
     "showTitle": false,
     "tableResultSettingsMap": {},
     "title": ""
    }
   },
   "outputs": [],
   "source": [
    "exp_products = spark.sql(\"\"\"SELECT product, \n",
    "                                SUM(quantity) quantity,\n",
    "                                SUM(totalPrice) totalAmount,\n",
    "                                COUNT(DISTINCT(transactionID)) totalTransactions\n",
    "                                \n",
    "                                FROM sales_data_view \n",
    "                                GROUP BY product\"\"\")\n",
    "exp_products.show()"
   ]
  },
  {
   "cell_type": "code",
   "execution_count": 0,
   "metadata": {
    "application/vnd.databricks.v1+cell": {
     "cellMetadata": {
      "byteLimit": 2048000,
      "rowLimit": 10000
     },
     "inputWidgets": {},
     "nuid": "c9577e51-4394-4e86-909b-e444d64dd586",
     "showTitle": false,
     "tableResultSettingsMap": {},
     "title": ""
    }
   },
   "outputs": [],
   "source": [
    "ch_month_fr = spark.sql(\"\"\"\n",
    "                SELECT\n",
    "                    MONTH(dateTime) Ay,\n",
    "                    franchiseID, \n",
    "                    SUM(totalPrice) totalAmount,\n",
    "                    COUNT(DISTINCT transactionID) totalTransactions,\n",
    "                    COUNT(DISTINCT customerid) totalCustomerCount  \n",
    "\n",
    "                FROM sales_data_view \n",
    "                GROUP BY 1,2 \n",
    "                ORDER BY 1,3 DESC\n",
    "\n",
    "          \n",
    "          \"\"\")\n",
    "\n",
    "ch_month_fr.show(10)         "
   ]
  },
  {
   "cell_type": "code",
   "execution_count": 0,
   "metadata": {
    "application/vnd.databricks.v1+cell": {
     "cellMetadata": {
      "byteLimit": 2048000,
      "rowLimit": 10000
     },
     "inputWidgets": {},
     "nuid": "4141b432-f13a-46e2-90eb-c698d20c75f6",
     "showTitle": false,
     "tableResultSettingsMap": {},
     "title": ""
    }
   },
   "outputs": [],
   "source": [
    "ch_custs = spark.sql(\"\"\"\n",
    "                        SELECT \n",
    "                            customer_full_name,\n",
    "                            SUM(totalPrice) totalAmount,\n",
    "                            COUNT(DISTINCT transactionID) totalTransactions\n",
    "\n",
    "                        FROM sales_data_view \n",
    "                        GROUP BY 1\n",
    "                        ORDER BY 2 DESC\n",
    "                        LIMIT 10\n",
    "                     \"\"\")\n",
    "\n",
    "ch_custs.show()                  "
   ]
  },
  {
   "cell_type": "markdown",
   "metadata": {
    "application/vnd.databricks.v1+cell": {
     "cellMetadata": {},
     "inputWidgets": {},
     "nuid": "2d14f2cf-5ec2-453a-a03d-4a75f92ae5cb",
     "showTitle": false,
     "tableResultSettingsMap": {},
     "title": ""
    }
   },
   "source": [
    "# Optimization & Results"
   ]
  },
  {
   "cell_type": "code",
   "execution_count": 0,
   "metadata": {
    "application/vnd.databricks.v1+cell": {
     "cellMetadata": {
      "byteLimit": 2048000,
      "rowLimit": 10000
     },
     "inputWidgets": {},
     "nuid": "d568feb6-f32c-4b19-a26a-26aa4a83c40c",
     "showTitle": false,
     "tableResultSettingsMap": {},
     "title": ""
    }
   },
   "outputs": [],
   "source": [
    "ch_custs.explain()"
   ]
  }
 ],
 "metadata": {
  "application/vnd.databricks.v1+notebook": {
   "computePreferences": null,
   "dashboards": [],
   "environmentMetadata": {
    "base_environment": "",
    "environment_version": "4"
   },
   "inputWidgetPreferences": null,
   "language": "python",
   "notebookMetadata": {
    "pythonIndentUnit": 4
   },
   "notebookName": "01.introduction-to-pyspark",
   "widgets": {}
  },
  "language_info": {
   "name": "python"
  }
 },
 "nbformat": 4,
 "nbformat_minor": 0
}
